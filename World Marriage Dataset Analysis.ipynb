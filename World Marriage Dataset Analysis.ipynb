{
 "cells": [
  {
   "cell_type": "code",
   "execution_count": null,
   "id": "9825dd52",
   "metadata": {},
   "outputs": [],
   "source": [
    "!pip install pandas\n",
    "!pip install numpy\n",
    "!pip install scikit-learn\n",
    "!pip install matplotlib\n",
    "!pip install seaborn"
   ]
  },
  {
   "cell_type": "code",
   "execution_count": 1,
   "id": "37baadbc",
   "metadata": {},
   "outputs": [],
   "source": [
    "import pandas as pd\n",
    "import numpy as np\n",
    "from sklearn.impute import SimpleImputer\n",
    "from matplotlib import pyplot as plt\n",
    "import seaborn as sns"
   ]
  },
  {
   "cell_type": "code",
   "execution_count": 2,
   "id": "2834c45f",
   "metadata": {},
   "outputs": [],
   "source": [
    "sns.set(style=\"whitegrid\")"
   ]
  },
  {
   "cell_type": "code",
   "execution_count": 12,
   "id": "85c1965d",
   "metadata": {},
   "outputs": [
    {
     "data": {
      "text/html": [
       "<div>\n",
       "<style scoped>\n",
       "    .dataframe tbody tr th:only-of-type {\n",
       "        vertical-align: middle;\n",
       "    }\n",
       "\n",
       "    .dataframe tbody tr th {\n",
       "        vertical-align: top;\n",
       "    }\n",
       "\n",
       "    .dataframe thead th {\n",
       "        text-align: right;\n",
       "    }\n",
       "</style>\n",
       "<table border=\"1\" class=\"dataframe\">\n",
       "  <thead>\n",
       "    <tr style=\"text-align: right;\">\n",
       "      <th></th>\n",
       "      <th>Sr.No.</th>\n",
       "      <th>Country</th>\n",
       "      <th>AgeGroup</th>\n",
       "      <th>Sex</th>\n",
       "      <th>MaritalStatus</th>\n",
       "      <th>DataProcess</th>\n",
       "      <th>Data Collection (Start Year)</th>\n",
       "      <th>Data Collection (End Year)</th>\n",
       "      <th>Data Source</th>\n",
       "    </tr>\n",
       "  </thead>\n",
       "  <tbody>\n",
       "    <tr>\n",
       "      <th>0</th>\n",
       "      <td>1</td>\n",
       "      <td>Afghanistan</td>\n",
       "      <td>[15-19]</td>\n",
       "      <td>Man</td>\n",
       "      <td>Divorced</td>\n",
       "      <td>Survey</td>\n",
       "      <td>1972</td>\n",
       "      <td>1974</td>\n",
       "      <td>National statistics</td>\n",
       "    </tr>\n",
       "    <tr>\n",
       "      <th>1</th>\n",
       "      <td>2</td>\n",
       "      <td>Afghanistan</td>\n",
       "      <td>[20-24]</td>\n",
       "      <td>Man</td>\n",
       "      <td>Divorced</td>\n",
       "      <td>Survey</td>\n",
       "      <td>1972</td>\n",
       "      <td>1974</td>\n",
       "      <td>National statistics</td>\n",
       "    </tr>\n",
       "    <tr>\n",
       "      <th>2</th>\n",
       "      <td>3</td>\n",
       "      <td>Afghanistan</td>\n",
       "      <td>[25-29]</td>\n",
       "      <td>Man</td>\n",
       "      <td>Divorced</td>\n",
       "      <td>Survey</td>\n",
       "      <td>1972</td>\n",
       "      <td>1974</td>\n",
       "      <td>National statistics</td>\n",
       "    </tr>\n",
       "    <tr>\n",
       "      <th>3</th>\n",
       "      <td>4</td>\n",
       "      <td>Afghanistan</td>\n",
       "      <td>[30-34]</td>\n",
       "      <td>Man</td>\n",
       "      <td>Divorced</td>\n",
       "      <td>Survey</td>\n",
       "      <td>1972</td>\n",
       "      <td>1974</td>\n",
       "      <td>National statistics</td>\n",
       "    </tr>\n",
       "    <tr>\n",
       "      <th>4</th>\n",
       "      <td>5</td>\n",
       "      <td>Afghanistan</td>\n",
       "      <td>[35-39]</td>\n",
       "      <td>Man</td>\n",
       "      <td>Divorced</td>\n",
       "      <td>Survey</td>\n",
       "      <td>1972</td>\n",
       "      <td>1974</td>\n",
       "      <td>National statistics</td>\n",
       "    </tr>\n",
       "    <tr>\n",
       "      <th>5</th>\n",
       "      <td>6</td>\n",
       "      <td>Afghanistan</td>\n",
       "      <td>[40-44]</td>\n",
       "      <td>Man</td>\n",
       "      <td>Divorced</td>\n",
       "      <td>Survey</td>\n",
       "      <td>1972</td>\n",
       "      <td>1974</td>\n",
       "      <td>National statistics</td>\n",
       "    </tr>\n",
       "    <tr>\n",
       "      <th>6</th>\n",
       "      <td>7</td>\n",
       "      <td>Afghanistan</td>\n",
       "      <td>[45-49]</td>\n",
       "      <td>Man</td>\n",
       "      <td>Divorced</td>\n",
       "      <td>Survey</td>\n",
       "      <td>1972</td>\n",
       "      <td>1974</td>\n",
       "      <td>National statistics</td>\n",
       "    </tr>\n",
       "    <tr>\n",
       "      <th>7</th>\n",
       "      <td>8</td>\n",
       "      <td>Afghanistan</td>\n",
       "      <td>[50-54]</td>\n",
       "      <td>Man</td>\n",
       "      <td>Divorced</td>\n",
       "      <td>Survey</td>\n",
       "      <td>1972</td>\n",
       "      <td>1974</td>\n",
       "      <td>National statistics</td>\n",
       "    </tr>\n",
       "    <tr>\n",
       "      <th>8</th>\n",
       "      <td>9</td>\n",
       "      <td>Afghanistan</td>\n",
       "      <td>[55-59]</td>\n",
       "      <td>Man</td>\n",
       "      <td>Divorced</td>\n",
       "      <td>Survey</td>\n",
       "      <td>1972</td>\n",
       "      <td>1974</td>\n",
       "      <td>National statistics</td>\n",
       "    </tr>\n",
       "    <tr>\n",
       "      <th>9</th>\n",
       "      <td>10</td>\n",
       "      <td>Afghanistan</td>\n",
       "      <td>[60-64]</td>\n",
       "      <td>Man</td>\n",
       "      <td>Divorced</td>\n",
       "      <td>Survey</td>\n",
       "      <td>1972</td>\n",
       "      <td>1974</td>\n",
       "      <td>National statistics</td>\n",
       "    </tr>\n",
       "    <tr>\n",
       "      <th>10</th>\n",
       "      <td>11</td>\n",
       "      <td>Afghanistan</td>\n",
       "      <td>[65+]</td>\n",
       "      <td>Man</td>\n",
       "      <td>Divorced</td>\n",
       "      <td>Survey</td>\n",
       "      <td>1972</td>\n",
       "      <td>1974</td>\n",
       "      <td>National statistics</td>\n",
       "    </tr>\n",
       "    <tr>\n",
       "      <th>11</th>\n",
       "      <td>12</td>\n",
       "      <td>Afghanistan</td>\n",
       "      <td>[15-19]</td>\n",
       "      <td>Man</td>\n",
       "      <td>Married</td>\n",
       "      <td>Survey</td>\n",
       "      <td>1972</td>\n",
       "      <td>1974</td>\n",
       "      <td>National statistics</td>\n",
       "    </tr>\n",
       "  </tbody>\n",
       "</table>\n",
       "</div>"
      ],
      "text/plain": [
       "    Sr.No.      Country AgeGroup  Sex MaritalStatus DataProcess  \\\n",
       "0        1  Afghanistan  [15-19]  Man      Divorced      Survey   \n",
       "1        2  Afghanistan  [20-24]  Man      Divorced      Survey   \n",
       "2        3  Afghanistan  [25-29]  Man      Divorced      Survey   \n",
       "3        4  Afghanistan  [30-34]  Man      Divorced      Survey   \n",
       "4        5  Afghanistan  [35-39]  Man      Divorced      Survey   \n",
       "5        6  Afghanistan  [40-44]  Man      Divorced      Survey   \n",
       "6        7  Afghanistan  [45-49]  Man      Divorced      Survey   \n",
       "7        8  Afghanistan  [50-54]  Man      Divorced      Survey   \n",
       "8        9  Afghanistan  [55-59]  Man      Divorced      Survey   \n",
       "9       10  Afghanistan  [60-64]  Man      Divorced      Survey   \n",
       "10      11  Afghanistan    [65+]  Man      Divorced      Survey   \n",
       "11      12  Afghanistan  [15-19]  Man       Married      Survey   \n",
       "\n",
       "    Data Collection (Start Year)  Data Collection (End Year)  \\\n",
       "0                           1972                        1974   \n",
       "1                           1972                        1974   \n",
       "2                           1972                        1974   \n",
       "3                           1972                        1974   \n",
       "4                           1972                        1974   \n",
       "5                           1972                        1974   \n",
       "6                           1972                        1974   \n",
       "7                           1972                        1974   \n",
       "8                           1972                        1974   \n",
       "9                           1972                        1974   \n",
       "10                          1972                        1974   \n",
       "11                          1972                        1974   \n",
       "\n",
       "            Data Source  \n",
       "0   National statistics  \n",
       "1   National statistics  \n",
       "2   National statistics  \n",
       "3   National statistics  \n",
       "4   National statistics  \n",
       "5   National statistics  \n",
       "6   National statistics  \n",
       "7   National statistics  \n",
       "8   National statistics  \n",
       "9   National statistics  \n",
       "10  National statistics  \n",
       "11  National statistics  "
      ]
     },
     "execution_count": 12,
     "metadata": {},
     "output_type": "execute_result"
    }
   ],
   "source": [
    "df = pd.read_csv('World Marriage Dataset.csv')            #Loading csv file\n",
    "df.head(12)"
   ]
  },
  {
   "cell_type": "code",
   "execution_count": 13,
   "id": "49f9fbc9",
   "metadata": {},
   "outputs": [
    {
     "data": {
      "text/plain": [
       "(271604, 9)"
      ]
     },
     "execution_count": 13,
     "metadata": {},
     "output_type": "execute_result"
    }
   ],
   "source": [
    "df.shape              # Checking the dimentions of the file"
   ]
  },
  {
   "cell_type": "code",
   "execution_count": 14,
   "id": "8d55fcc0",
   "metadata": {},
   "outputs": [
    {
     "name": "stdout",
     "output_type": "stream",
     "text": [
      "<class 'pandas.core.frame.DataFrame'>\n",
      "RangeIndex: 271604 entries, 0 to 271603\n",
      "Data columns (total 9 columns):\n",
      " #   Column                        Non-Null Count   Dtype \n",
      "---  ------                        --------------   ----- \n",
      " 0   Sr.No.                        271604 non-null  int64 \n",
      " 1   Country                       271604 non-null  object\n",
      " 2   AgeGroup                      271604 non-null  object\n",
      " 3   Sex                           271604 non-null  object\n",
      " 4   MaritalStatus                 271604 non-null  object\n",
      " 5   DataProcess                   271604 non-null  object\n",
      " 6   Data Collection (Start Year)  271604 non-null  int64 \n",
      " 7   Data Collection (End Year)    271604 non-null  int64 \n",
      " 8   Data Source                   271604 non-null  object\n",
      "dtypes: int64(3), object(6)\n",
      "memory usage: 18.6+ MB\n"
     ]
    }
   ],
   "source": [
    "df.info()             # Checking basic information of the file"
   ]
  },
  {
   "cell_type": "markdown",
   "id": "eedfd927",
   "metadata": {},
   "source": [
    "# Country"
   ]
  },
  {
   "cell_type": "code",
   "execution_count": 16,
   "id": "dfa0a1df",
   "metadata": {},
   "outputs": [
    {
     "data": {
      "text/plain": [
       "235"
      ]
     },
     "execution_count": 16,
     "metadata": {},
     "output_type": "execute_result"
    }
   ],
   "source": [
    "df['Country'].nunique()                       # No. of unique countries"
   ]
  },
  {
   "cell_type": "code",
   "execution_count": 17,
   "id": "80f2976a",
   "metadata": {},
   "outputs": [
    {
     "name": "stdout",
     "output_type": "stream",
     "text": [
      "['Afghanistan' 'Albania' 'Algeria' 'American Samoa' 'Angola' 'Anguilla'\n",
      " 'Antigua and Barbuda' 'Argentina' 'Armenia' 'Aruba' 'Australia' 'Austria'\n",
      " 'Azerbaijan' 'Bahamas' 'Bahrain' 'Bangladesh' 'Barbados' 'Belarus'\n",
      " 'Belgium' 'Belize' 'Benin' 'Bermuda' 'Bhutan'\n",
      " 'Bolivia (Plurinational State of)' 'Bosnia and Herzegovina' 'Botswana'\n",
      " 'Brazil' 'British Virgin Islands' 'Brunei Darussalam' 'Bulgaria'\n",
      " 'Burkina Faso' 'Burundi' 'Cabo Verde' 'Cambodia' 'Cameroon' 'Canada'\n",
      " 'Cayman Islands' 'Central African Republic' 'Chad' 'Channel Islands'\n",
      " 'Chile' 'China' 'China, Hong Kong SAR' 'China, Macao SAR'\n",
      " 'China, Taiwan Province of China' 'Colombia' 'Comoros' 'Congo'\n",
      " 'Cook Islands' 'Costa Rica' \"Côte d'Ivoire\" 'Croatia' 'Cuba' 'Curaçao'\n",
      " 'Cyprus' 'Czechia' \"Dem. People's Rep. of Korea\"\n",
      " 'Democratic Republic of the Congo' 'Denmark' 'Djibouti' 'Dominica'\n",
      " 'Dominican Republic' 'Ecuador' 'Egypt' 'El Salvador' 'Equatorial Guinea'\n",
      " 'Eritrea' 'Estonia' 'Ethiopia' 'Faeroe Islands'\n",
      " 'Falkland Islands (Malvinas)' 'Fiji' 'Finland' 'France' 'French Guiana'\n",
      " 'French Polynesia' 'Gabon' 'Gambia' 'Georgia' 'Germany' 'Ghana'\n",
      " 'Gibraltar' 'Greece' 'Greenland' 'Grenada' 'Guadeloupe' 'Guam'\n",
      " 'Guatemala' 'Guinea' 'Guinea-Bissau' 'Guyana' 'Haiti' 'Honduras'\n",
      " 'Hungary' 'Iceland' 'India' 'Indonesia' 'Iran (Islamic Republic of)'\n",
      " 'Iraq' 'Ireland' 'Isle of Man' 'Israel' 'Italy' 'Jamaica' 'Japan'\n",
      " 'Jordan' 'Kazakhstan' 'Kenya' 'Kiribati' 'Kosovo (autonomous province)'\n",
      " 'Kuwait' 'Kyrgyzstan' 'Lao People’s Democratic Republic'\n",
      " \"Lao People's Dem. Republic\" \"Lao People's Democratic Republic\" 'Latvia'\n",
      " 'Lebanon' 'Lesotho' 'Liberia' 'Libya' 'Liechtenstein' 'Lithuania'\n",
      " 'Luxembourg' 'Madagascar' 'Malawi' 'Malaysia' 'Maldives' 'Mali' 'Malta'\n",
      " 'Marshall Islands' 'Martinique' 'Mauritania' 'Mauritius' 'Mayotte'\n",
      " 'Mexico' 'Micronesia (Fed. States of)' 'Monaco' 'Mongolia' 'Montenegro'\n",
      " 'Montserrat' 'Morocco' 'Mozambique' 'Myanmar' 'Namibia' 'Nauru' 'Nepal'\n",
      " 'Netherlands' 'Netherlands Antilles' 'New Caledonia' 'New Zealand'\n",
      " 'Nicaragua' 'Niger' 'Nigeria' 'Niue' 'Northern Mariana Islands' 'Norway'\n",
      " 'Oman' 'Pakistan' 'Palau' 'Panama' 'Papua New Guinea' 'Paraguay' 'Peru'\n",
      " 'Philippines' 'Poland' 'Portugal' 'Puerto Rico' 'Qatar'\n",
      " 'Republic of Korea' 'Republic of Moldova' 'Réunion' 'Romania'\n",
      " 'Russian Federation' 'Rwanda' 'Saint Helena' 'Saint Kitts and Nevis'\n",
      " 'Saint Lucia' 'Saint Pierre and Miquelon'\n",
      " 'Saint Vincent and the Grenadines' 'Samoa' 'San Marino'\n",
      " 'Sao Tome and Principe' 'Saudi Arabia' 'Senegal' 'Serbia' 'Seychelles'\n",
      " 'Sierra Leone' 'Singapore' 'Sint Maarten (Dutch part)' 'Slovakia'\n",
      " 'Slovenia' 'Solomon Islands' 'Somalia' 'South Africa' 'South Sudan'\n",
      " 'Spain' 'Sri Lanka' 'State of Palestine' 'Sudan' 'Suriname' 'Eswatini'\n",
      " 'Sweden' 'Switzerland' 'Syrian Arab Republic' 'Tajikistan'\n",
      " 'TFYR Macedonia' 'Thailand' 'The former Yugoslav Republic of Macedonia'\n",
      " 'Timor-Leste' 'Togo' 'Tokelau' 'Tonga' 'Trinidad and Tobago' 'Tunisia'\n",
      " 'Turkey' 'Turkmenistan' 'Turks and Caicos Islands' 'Tuvalu' 'Uganda'\n",
      " 'Ukraine' 'United Arab Emirates' 'United Kingdom'\n",
      " 'United Republic of Tanzania' 'United States of America'\n",
      " 'United States Virgin Islands' 'Uruguay' 'Uzbekistan' 'Vanuatu'\n",
      " 'Venezuela (Bolivarian Republic of)' 'Viet Nam'\n",
      " 'Wallis and Futuna Islands' 'Western Sahara' 'Yemen' 'Zambia' 'Zimbabwe']\n"
     ]
    }
   ],
   "source": [
    "countries = df['Country'].unique()            # Printing Unique countries\n",
    "print(countries)"
   ]
  },
  {
   "cell_type": "code",
   "execution_count": null,
   "id": "5e9eef41",
   "metadata": {},
   "outputs": [],
   "source": [
    "df['Country'].replace('The former Yugoslav Republic of Macedonia', 'TFYR Macedonia', inplace = True)\n",
    "df['Country'].replace('Netherlands Antilles', 'Netherlands', inplace = True)\n",
    "df['Country'].replace(\"Lao People's Dem. Republic\", 'Lao People’s Democratic Republic', inplace = True)\n",
    "df['Country'].replace(\"Lao People's Democratic Republic\", 'Lao People’s Democratic Republic', inplace = True)\n",
    "df['Country'].replace(\"Dem. People's Rep. of Korea\", 'Republic of Korea', inplace = True)\n",
    "# Corrceting same countries with different denotations"
   ]
  },
  {
   "cell_type": "code",
   "execution_count": null,
   "id": "6c0e2370",
   "metadata": {},
   "outputs": [],
   "source": [
    "df['Country'].nunique()"
   ]
  },
  {
   "cell_type": "code",
   "execution_count": null,
   "id": "6665bf1d",
   "metadata": {},
   "outputs": [],
   "source": [
    "df['Country'].value_counts().head(10)                # Top 10 Countries"
   ]
  },
  {
   "cell_type": "code",
   "execution_count": null,
   "id": "c36f9ec8",
   "metadata": {},
   "outputs": [],
   "source": [
    "top_country = df['Country'].value_counts().head(15).index          # Saving the top 10 countries for further use in analysis\n",
    "top_countries = df[df['Country'].isin(top_country)]\n",
    "top_countries.head()"
   ]
  },
  {
   "cell_type": "code",
   "execution_count": null,
   "id": "4bd65102",
   "metadata": {},
   "outputs": [],
   "source": [
    "fig, ax =plt.subplots(figsize= (20,8))\n",
    "ax = sns.countplot(x = 'Country', hue = 'Sex' ,data = top_countries, order = top_countries['Country'].value_counts().index)\n",
    "ax.tick_params(axis = 'x', rotation = 60)\n",
    "ax.tick_params(axis = 'both', labelsize = 15)\n",
    "ax.set_xlabel('Countries', fontsize = 17)\n",
    "ax.set_ylabel('Counts', fontsize = 17)\n",
    "ax.set_title('Top 10 Countries gender ratio')\n",
    "plt.show()\n",
    "fig.figure.savefig('one.png')"
   ]
  },
  {
   "cell_type": "markdown",
   "id": "146448bc",
   "metadata": {},
   "source": [
    "The above plot shows the gender distribution of the top 10 countries in the data.\n",
    "It is clear that Men and Women are almost equal in numbers in the survey."
   ]
  },
  {
   "cell_type": "markdown",
   "id": "41661237",
   "metadata": {},
   "source": [
    "# Age Group"
   ]
  },
  {
   "cell_type": "code",
   "execution_count": null,
   "id": "76ec8b89",
   "metadata": {},
   "outputs": [],
   "source": [
    "df['AgeGroup'].nunique()                     # Unique values in the column"
   ]
  },
  {
   "cell_type": "code",
   "execution_count": null,
   "id": "1edf167c",
   "metadata": {},
   "outputs": [],
   "source": [
    "df['AgeGroup'].unique()                      # Printing unique values in the column"
   ]
  },
  {
   "cell_type": "code",
   "execution_count": null,
   "id": "04fd4d7b",
   "metadata": {},
   "outputs": [],
   "source": [
    "df['AgeStart'] = df['AgeGroup'].str.extract('(\\d+)').astype(int)\n",
    "df.sort_values(by = 'AgeStart', ascending = True, inplace = True)\n",
    "df.drop('AgeStart', axis= 1, inplace = True)\n",
    "df.head()                                                               # Arranging Age Groups in ascending order"
   ]
  },
  {
   "cell_type": "code",
   "execution_count": null,
   "id": "1cd5744f",
   "metadata": {},
   "outputs": [],
   "source": [
    "ax, fig = plt.subplots(figsize = (20,8))\n",
    "ax = sns.histplot(x= 'AgeGroup', data= df)\n",
    "ax.tick_params(axis = 'x', rotation = 90)\n",
    "ax.tick_params(axis = 'both', labelsize = 15)\n",
    "ax.set_xlabel('Age Groups', fontsize = 17)\n",
    "ax.set_ylabel('Count', fontsize = 17)\n",
    "ax.set_title('Distribution of Age Group')\n",
    "plt.show()\n",
    "fig.figure.savefig('two.png')"
   ]
  },
  {
   "cell_type": "markdown",
   "id": "f6df4f67",
   "metadata": {},
   "source": [
    "The above graph shows the distribution plot of the age groups in the dataset.\n",
    "The distribution is slightly left skewed or negatively skewed. "
   ]
  },
  {
   "cell_type": "markdown",
   "id": "138ccbfe",
   "metadata": {},
   "source": [
    "# Sex"
   ]
  },
  {
   "cell_type": "code",
   "execution_count": null,
   "id": "6f27d530",
   "metadata": {},
   "outputs": [],
   "source": [
    "df['Sex'].unique()"
   ]
  },
  {
   "cell_type": "code",
   "execution_count": null,
   "id": "68f2c26f",
   "metadata": {},
   "outputs": [],
   "source": [
    "fig, ax = plt.subplots(figsize = (10,4))\n",
    "ax = sns.countplot(x = 'Sex', data = df)\n",
    "ax.tick_params(axis = 'both', labelsize = 10)\n",
    "ax.set_xlabel('Gender', fontsize = 12)\n",
    "ax.set_ylabel('Count', fontsize = 12)\n",
    "ax.set_title('Distribution between Genders')\n",
    "ax.bar_label(ax.containers[0])\n",
    "plt.show()\n",
    "fig.figure.savefig('three.png')"
   ]
  },
  {
   "cell_type": "markdown",
   "id": "84505212",
   "metadata": {},
   "source": [
    "The above figure is the countplot of the column 'Sex'.\n",
    "It shows the number of men and women in the dataset.\n",
    "The number is very close.\n",
    "So we can say that both the genders are equally represented here."
   ]
  },
  {
   "cell_type": "markdown",
   "id": "a0b8c114",
   "metadata": {},
   "source": [
    "# Marital Status"
   ]
  },
  {
   "cell_type": "code",
   "execution_count": 18,
   "id": "477e9981",
   "metadata": {},
   "outputs": [
    {
     "data": {
      "text/plain": [
       "35"
      ]
     },
     "execution_count": 18,
     "metadata": {},
     "output_type": "execute_result"
    }
   ],
   "source": [
    "df['MaritalStatus'].nunique()"
   ]
  },
  {
   "cell_type": "code",
   "execution_count": 19,
   "id": "3eb0d8d9",
   "metadata": {},
   "outputs": [
    {
     "data": {
      "text/plain": [
       "Widowed                                          57002\n",
       "Married                                          53955\n",
       "Divorced                                         51269\n",
       "Single                                           48472\n",
       "Separated                                        17766\n",
       "Consensual union                                 11279\n",
       "Never married                                    10429\n",
       "Divorced or Separated                             4886\n",
       "Living together                                   4536\n",
       "Not living together                               4335\n",
       "Married or in consensual union                    2314\n",
       "Married or married but separated                  1520\n",
       "Married or Living together                         892\n",
       "Currently not married                              607\n",
       "Ever married                                       509\n",
       "Widowed or divorced                                290\n",
       "Consensual union, not living together              265\n",
       "Not in union                                       249\n",
       "Married, in consensual unions or separated         196\n",
       "Registred partnership                              175\n",
       "Divorced or Separated or Widowed                   133\n",
       "Visiting partner                                   104\n",
       "Widowed, divorced or separated                      59\n",
       "Married monogamous                                  50\n",
       "Married polygamous                                  49\n",
       "Currently not married nor in consensual union       46\n",
       "Separated from consensual union                     37\n",
       "Divorced or Widowed                                 31\n",
       "Single or in consensual unions                      28\n",
       "Separated from marriage                             27\n",
       "Married spouse absent                               24\n",
       "Married spouse present                              24\n",
       "Marriage contract                                   20\n",
       "Married gaunna not performed                        14\n",
       "Widowed or separated                                12\n",
       "Name: MaritalStatus, dtype: int64"
      ]
     },
     "execution_count": 19,
     "metadata": {},
     "output_type": "execute_result"
    }
   ],
   "source": [
    "df['MaritalStatus'].value_counts()"
   ]
  },
  {
   "cell_type": "code",
   "execution_count": 20,
   "id": "46195f77",
   "metadata": {},
   "outputs": [],
   "source": [
    "marital_mapping = {\n",
    "    'Married': 'Married',\n",
    "    'Married or in consensual union': 'Married',\n",
    "    'Married or Living together': 'Married',\n",
    "    'Married monogamous': 'Married',\n",
    "    'Married polygamous': 'Married',\n",
    "    'Married spouse absent': 'Married',\n",
    "    'Married spouse present': 'Married',\n",
    "    'Marriage contract': 'Married',\n",
    "    'Married gaunna not performed': 'Married',\n",
    "    'Registred partnership': 'Married',\n",
    "    'Married, in consensual unions or separated': 'Married',\n",
    "    'Single': 'Single',\n",
    "    'Never married': 'Single',\n",
    "    'Currently not married': 'Single',\n",
    "    'Not in union': 'Single',\n",
    "    'Currently not married nor in consensual union': 'Single',\n",
    "    'Single or in consensual unions': 'Single',\n",
    "    'Ever married': 'Single',  # Assuming typo for \"Never married\"\n",
    "    'Divorced': 'Divorced',\n",
    "    'Divorced or Separated': 'Divorced',\n",
    "    'Divorced or Widowed': 'Divorced',\n",
    "    'Divorced or Separated or Widowed': 'Divorced',\n",
    "    'Widowed': 'Widowed',\n",
    "    'Widowed or divorced': 'Widowed',\n",
    "    'Widowed, divorced or separated': 'Widowed',\n",
    "    'Widowed or separated': 'Widowed',\n",
    "    'Separated': 'Separated',\n",
    "    'Married or married but separated': 'Separated',\n",
    "    'Separated from consensual union': 'Separated',\n",
    "    'Separated from marriage': 'Separated',\n",
    "    'Consensual union': 'Consensual Union',\n",
    "    'Living together': 'Consensual Union',\n",
    "    'Not living together': 'Consensual Union',\n",
    "    'Consensual union, not living together': 'Consensual Union',\n",
    "    'Visiting partner': 'Consensual Union'\n",
    "}\n",
    "df['MaritalStatus'] = df['MaritalStatus'].replace(marital_mapping)\n",
    "# Correcting some typos and assigning them the correct values"
   ]
  },
  {
   "cell_type": "code",
   "execution_count": 21,
   "id": "23e0cfa7",
   "metadata": {},
   "outputs": [
    {
     "data": {
      "text/plain": [
       "Single              60340\n",
       "Married             57713\n",
       "Widowed             57363\n",
       "Divorced            56319\n",
       "Consensual Union    20519\n",
       "Separated           19350\n",
       "Name: MaritalStatus, dtype: int64"
      ]
     },
     "execution_count": 21,
     "metadata": {},
     "output_type": "execute_result"
    }
   ],
   "source": [
    "df['MaritalStatus'].value_counts()"
   ]
  },
  {
   "cell_type": "code",
   "execution_count": null,
   "id": "231c0520",
   "metadata": {},
   "outputs": [],
   "source": [
    "marital_trends = df.groupby(['Data Collection (Start Year)', 'MaritalStatus', 'Sex']).size().reset_index(name='Count')\n",
    "\n",
    "fig, ax = plt.subplots(figsize = (50, 20))\n",
    "ax = sns.lineplot(x='Data Collection (Start Year)', y='Count', hue='MaritalStatus', data= marital_trends)\n",
    "ax.set_title('Marital status trends over time', fontsize = 45)\n",
    "ax.tick_params(axis = 'both', labelsize = 25)\n",
    "ax.set_xlabel('Start year of data collection', fontsize = 45)\n",
    "ax.set_ylabel('Count', fontsize = 45)\n",
    "legend = plt.legend(title='Marital Status', loc='upper left', borderpad=1, labelspacing=1, edgecolor='black')\n",
    "plt.setp(legend.get_texts(), fontsize= 15) \n",
    "plt.show()\n",
    "fig.figure.savefig('four.png')"
   ]
  },
  {
   "cell_type": "markdown",
   "id": "1b038024",
   "metadata": {},
   "source": [
    "The above figure is the lineplot of marital status over the period of time.\n",
    "Married status remains consistently the most common throughout the years.\n",
    "Single status also shows a steady presence but is significantly lower than married.\n",
    "Divorced and Widowed statuses remain relatively stable but at much lower counts.\n",
    "There may be fluctuations in data collection volumes over time, possibly due to survey frequency or country participation."
   ]
  },
  {
   "cell_type": "code",
   "execution_count": null,
   "id": "562daf40",
   "metadata": {},
   "outputs": [],
   "source": [
    "gender_trends = df.groupby(['Data Collection (Start Year)', 'MaritalStatus', 'Sex']).size().reset_index(name='Count')\n",
    "\n",
    "fig, ax = plt.subplots(figsize = (50, 20))\n",
    "ax = sns.lineplot(x='Data Collection (Start Year)', y='Count', hue='MaritalStatus',style = 'Sex', data=gender_trends)\n",
    "ax.set_title('Gender-wise Marital Status trends over time', fontsize = 45)\n",
    "ax.tick_params(axis = 'both', labelsize = 25)\n",
    "ax.set_xlabel('Start year of data collection', fontsize = 45)\n",
    "ax.set_ylabel('Count', fontsize = 45)\n",
    "legend = plt.legend(title='Marital status and gender', loc='upper left', borderpad=1, labelspacing=1, edgecolor='black')\n",
    "plt.setp(legend.get_texts(), fontsize=15) \n",
    "plt.show()\n",
    "fig.figure.savefig('five.png')"
   ]
  },
  {
   "cell_type": "markdown",
   "id": "7cfce8cc",
   "metadata": {},
   "source": [
    "The above figure is the lineplot of marital status and gender over the period of time.\n",
    "Married status is consistently the most common status for both men and women, with slightly higher counts for women over time.\n",
    "Single status has similar patterns for both genders, but slightly more prevalent among men.\n",
    "Widowed status is significantly higher among women, reflecting longer life expectancy or cultural patterns.\n",
    "Divorced status is fairly balanced between genders with no dramatic differences over time."
   ]
  },
  {
   "cell_type": "code",
   "execution_count": null,
   "id": "7aee76ec",
   "metadata": {},
   "outputs": [],
   "source": [
    "fig, ax = plt.subplots(figsize = (40, 15))\n",
    "sns.countplot(x= 'AgeGroup', hue= 'MaritalStatus', data = df, order = sorted(df['AgeGroup'].unique()))\n",
    "ax.set_title('Marital status distribution across age groups', fontsize = 35)\n",
    "ax.set_xlabel('Age Group', fontsize = 35)\n",
    "ax.set_ylabel('Count', fontsize = 35)\n",
    "legend = plt.legend(title='Marital Status')\n",
    "ax.tick_params(axis = 'x' ,rotation=90)\n",
    "ax.tick_params(axis = 'both', labelsize = 18)\n",
    "plt.show()\n",
    "fig.figure.savefig('six.png')"
   ]
  },
  {
   "cell_type": "markdown",
   "id": "03a46f85",
   "metadata": {},
   "source": [
    "The above figure shows the marital status across the age groups.\n",
    "Younger Age Groups ([15-19], [20-24]) are Dominated by \"Single\" status.\n",
    "Middle Age Groups ([25-39]) : \"Married\" becomes the most prevalent status.\n",
    "Older Age Groups (40+): Increase in \"Widowed\" and \"Divorced\" statuses.\n",
    "\n",
    "There's a clear life-cycle pattern:\n",
    "Young people are predominantly single.\n",
    "Middle-aged people are mostly married.\n",
    "Older people have higher proportion of widowed individuals."
   ]
  },
  {
   "cell_type": "markdown",
   "id": "739810db",
   "metadata": {},
   "source": [
    "# Data Source"
   ]
  },
  {
   "cell_type": "code",
   "execution_count": null,
   "id": "8c9fbf83",
   "metadata": {},
   "outputs": [],
   "source": [
    "df['Data Source'].nunique()"
   ]
  },
  {
   "cell_type": "code",
   "execution_count": null,
   "id": "d813c675",
   "metadata": {},
   "outputs": [],
   "source": [
    "df['Data Source'].value_counts()"
   ]
  },
  {
   "cell_type": "code",
   "execution_count": null,
   "id": "1ae0921d",
   "metadata": {},
   "outputs": [],
   "source": [
    "fig, ax = plt.subplots(figsize=(15, 6))\n",
    "ax = sns.countplot(x= 'Data Source', data = df, order = df['Data Source'].value_counts().index)\n",
    "ax.bar_label(ax.containers[0])\n",
    "ax.tick_params(axis='x', rotation=60)\n",
    "ax.set_xlabel('Data Source', fontsize = 13)\n",
    "ax.set_ylabel('Count', fontsize = 13)\n",
    "plt.show()\n",
    "fig.figure.savefig('seven.png')"
   ]
  },
  {
   "cell_type": "markdown",
   "id": "9465de8d",
   "metadata": {},
   "source": [
    "The above figure is the countplot of Data Source column.\n",
    "It shows the different data sources the the number of data collected from each source.\n",
    "It is clear that UNSD is the primary source of information for this data set.\n",
    "The other sources have significantly less data collected from them."
   ]
  },
  {
   "cell_type": "markdown",
   "id": "e8511c59",
   "metadata": {},
   "source": [
    "# Data Process"
   ]
  },
  {
   "cell_type": "code",
   "execution_count": null,
   "id": "6225287a",
   "metadata": {},
   "outputs": [],
   "source": [
    "df['DataProcess'].nunique()"
   ]
  },
  {
   "cell_type": "code",
   "execution_count": null,
   "id": "307b4d6f",
   "metadata": {},
   "outputs": [],
   "source": [
    "df['DataProcess'].value_counts()"
   ]
  },
  {
   "cell_type": "code",
   "execution_count": null,
   "id": "7934422f",
   "metadata": {},
   "outputs": [],
   "source": [
    "fig, ax = plt.subplots(figsize = (10,5))\n",
    "ax = sns.countplot(x = 'DataProcess', data = df, order = df['DataProcess'].value_counts().index)\n",
    "ax.bar_label(ax.containers[0])\n",
    "ax.tick_params(axis = 'both', labelsize = 10)\n",
    "ax.set_xlabel('Process through which data was collected', fontsize = 14) \n",
    "ax.set_ylabel('Count', fontsize = 14)\n",
    "ax.set_title('Data Process')\n",
    "plt.show()\n",
    "fig.figure.savefig('eight.png')"
   ]
  },
  {
   "cell_type": "markdown",
   "id": "a897bf23",
   "metadata": {},
   "source": [
    "The above plot is the countplot of Data Processes.\n",
    "It shows the different processes through which data was collected.\n",
    "The figure shows that the data was mostly collected by 3 methods -- Census , Estimate and Survey.\n",
    "Census being the highest.\n",
    "Significantly less data is collected through the remaining three methods or processes."
   ]
  },
  {
   "cell_type": "code",
   "execution_count": null,
   "id": "60d1814d",
   "metadata": {},
   "outputs": [],
   "source": []
  },
  {
   "cell_type": "code",
   "execution_count": null,
   "id": "311f91ae",
   "metadata": {},
   "outputs": [],
   "source": []
  },
  {
   "cell_type": "code",
   "execution_count": null,
   "id": "10b6f64f",
   "metadata": {},
   "outputs": [],
   "source": []
  },
  {
   "cell_type": "code",
   "execution_count": null,
   "id": "6e155da2",
   "metadata": {},
   "outputs": [],
   "source": []
  }
 ],
 "metadata": {
  "kernelspec": {
   "display_name": "Python 3 (ipykernel)",
   "language": "python",
   "name": "python3"
  },
  "language_info": {
   "codemirror_mode": {
    "name": "ipython",
    "version": 3
   },
   "file_extension": ".py",
   "mimetype": "text/x-python",
   "name": "python",
   "nbconvert_exporter": "python",
   "pygments_lexer": "ipython3",
   "version": "3.11.4"
  }
 },
 "nbformat": 4,
 "nbformat_minor": 5
}
